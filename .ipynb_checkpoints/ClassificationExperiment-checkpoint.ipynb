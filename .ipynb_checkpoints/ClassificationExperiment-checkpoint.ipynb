{
 "cells": [
  {
   "cell_type": "code",
   "execution_count": null,
   "metadata": {
    "scrolled": true
   },
   "outputs": [],
   "source": [
    "import sklearn\n",
    "from sklearn.datasets import load_svmlight_file\n",
    "from sklearn.model_selection import train_test_split\n",
    "from sklearn import metrics\n",
    "import numpy as np\n",
    "import numpy.linalg as LA\n",
    "import matplotlib.pyplot as plt\n",
    "\n",
    "dataset_file = \"./data/australian_scale\"\n",
    "    \n",
    "def load_data(file_path):  \n",
    "#     读取libsvm格式数据  \n",
    "    x, y = load_svmlight_file(file_path)  \n",
    "    return x, y\n",
    "\n",
    "def compute_loss(X, y, theta, lamda):\n",
    "    m = y.shape[0]\n",
    "    C = np.maximum(np.ones(m) - X.dot(theta), np.zeros(m))\n",
    "    loss = np.sum(C) + lamda * LA.norm(theta, 2) ** 2 / 2\n",
    "    return loss\n",
    "\n",
    "#    draw the result\n",
    "def draw_plot(Loss_train, Loss_validation):\n",
    "    plt.plot(Loss_train, label=\"Loss_train\")\n",
    "    plt.plot(Loss_validation, label=\"Loss_validation\") \n",
    "    plt.xlabel('Iteration')\n",
    "    plt.ylabel('Loss')\n",
    "    plt.legend()\n",
    "    plt.title(\"Liner Classification\")\n",
    "    plt.show()\n",
    "\n",
    "def get_accuracy(X, y, theta):\n",
    "    preY = X.dot(theta)\n",
    "    count = np.sum(preY * y > 0)\n",
    "    Accuracy = count / float(X.shape[0])\n",
    "    return Accuracy\n",
    "  \n",
    "def liner_classification():\n",
    "    X, y = load_data(dataset_file)\n",
    "#     随机抽取测试集\n",
    "    X_train, X_test, y_train, y_test = train_test_split(X, y, test_size = 0.5)\n",
    "#     定义超参数\n",
    "    alpha = 1\n",
    "    lamda = 0.01\n",
    "    epoch = 3\n",
    "    num_iter = X_train.shape[0]\n",
    "    theta = np.zeros((X_train.shape[1], 1))\n",
    "#    用于存储历史误差\n",
    "    loss_train = np.zeros((num_iter * epoch, 1))\n",
    "    loss_validation = np.zeros((num_iter * epoch, 1)) \n",
    "    accuracy_validation = np.zeros((num_iter * epoch, 1)) \n",
    "\n",
    "#     优化theta,回归梯度下降  \n",
    "    y_train = y_train.reshape((-1,1))\n",
    "    y_test = y_test.reshape((-1,1))\n",
    "    Xy_train = y_train.T * X_train\n",
    "    for i in range(0, epoch):\n",
    "        for iter in range(0, num_iter):\n",
    "            # 对loss求导\n",
    "            theta -= alpha * (- Xy_train.T.dot(Xy_train.dot(theta) <= 1) + theta * lamda)\n",
    "            \n",
    "            loss_train[i * num_iter + iter] = compute_loss(X_train, y_train, theta, lamda)\n",
    "            loss_validation[i * num_iter + iter] = compute_loss(X_test, y_test, theta, lamda)\n",
    "    \n",
    "    draw_plot(loss_train, loss_validation)\n",
    "\n",
    "if __name__ == \"__main__\":\n",
    "    liner_classification()"
   ]
  },
  {
   "cell_type": "code",
   "execution_count": null,
   "metadata": {
    "collapsed": true
   },
   "outputs": [],
   "source": []
  }
 ],
 "metadata": {
  "kernelspec": {
   "display_name": "Python 3",
   "language": "python",
   "name": "python3"
  },
  "language_info": {
   "codemirror_mode": {
    "name": "ipython",
    "version": 2
   },
   "file_extension": ".py",
   "mimetype": "text/x-python",
   "name": "python",
   "nbconvert_exporter": "python",
   "pygments_lexer": "ipython2",
   "version": "2.7.12"
  }
 },
 "nbformat": 4,
 "nbformat_minor": 2
}
